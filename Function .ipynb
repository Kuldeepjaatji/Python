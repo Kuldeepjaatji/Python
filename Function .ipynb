{
 "cells": [
  {
   "cell_type": "code",
   "execution_count": 1,
   "id": "4b715da6-1029-441d-8c09-37b2ae99fb55",
   "metadata": {},
   "outputs": [
    {
     "name": "stdout",
     "output_type": "stream",
     "text": [
      "Enter values of cylindrical part of the tent in meters:\n"
     ]
    },
    {
     "name": "stdin",
     "output_type": "stream",
     "text": [
      "Height:  4\n",
      "Radius:  5\n",
      "Enter slant height of the conical area in meters:  6\n"
     ]
    },
    {
     "name": "stdout",
     "output_type": "stream",
     "text": [
      "Area of canvas =  219.8\n"
     ]
    },
    {
     "name": "stdin",
     "output_type": "stream",
     "text": [
      "Enter cost of 1 canvas in rupees:  18000\n"
     ]
    },
    {
     "name": "stdout",
     "output_type": "stream",
     "text": [
      "Total cost of canvas before tax =  3956400.0\n",
      "Net amount payable (including tax) =  4668552.0\n"
     ]
    }
   ],
   "source": [
    "def cyl(h,r):\n",
    "    area_cyl = 2*3.14*r*h\n",
    "    return(area_cyl)\n",
    "def con(l,r):\n",
    "    area_con = 3.14*r*l\n",
    "    return(area_con)\n",
    "def post_tax_price(cost):\n",
    "    tax = 0.18 * cost;\n",
    "    net_price = cost + tax\n",
    "    return(net_price)\n",
    "print(\"Enter values of cylindrical part of the tent in meters:\")\n",
    "h = float(input(\"Height: \"))\n",
    "r = float(input(\"Radius: \"))\n",
    "csa_cyl = cyl(h,r) \n",
    "l = float(input(\"Enter slant height of the conical area in meters: \"))\n",
    "csa_con = con(l,r)\n",
    "canvas_area = csa_cyl + csa_con\n",
    "print(\"Area of canvas = \",canvas_area,)\n",
    "unit_price = float(input(\"Enter cost of 1 canvas in rupees: \"))\n",
    "total_cost = unit_price * canvas_area\n",
    "print(\"Total cost of canvas before tax = \",total_cost)\n",
    "print(\"Net amount payable (including tax) = \",post_tax_price(total_cost))"
   ]
  },
  {
   "cell_type": "code",
   "execution_count": 4,
   "id": "52ef73ca-de1a-41b4-9c49-de23d9685799",
   "metadata": {},
   "outputs": [
    {
     "name": "stdin",
     "output_type": "stream",
     "text": [
      "Enter your first number 22\n",
      "Enter Your Second npmber 22\n"
     ]
    },
    {
     "name": "stdout",
     "output_type": "stream",
     "text": [
      "44\n"
     ]
    }
   ],
   "source": [
    "def addnum():\n",
    "    fnum = int(input('Enter your first number'))\n",
    "    snum = int(input('Enter Your Second npmber'))\n",
    "    sum1 = fnum + snum\n",
    "    print(sum1)\n",
    "addnum()"
   ]
  },
  {
   "cell_type": "code",
   "execution_count": 7,
   "id": "e1b6b33f-ba59-4ed5-a830-c2d71e1fff70",
   "metadata": {},
   "outputs": [
    {
     "name": "stdin",
     "output_type": "stream",
     "text": [
      "Enter your value of K:  22\n"
     ]
    },
    {
     "name": "stdout",
     "output_type": "stream",
     "text": [
      "253\n"
     ]
    }
   ],
   "source": [
    "def kuldeep(K):\n",
    "    sum2 = 0\n",
    "    for i in range(1,K+1):\n",
    "        sum2 += i\n",
    "    print(sum2)\n",
    "n = int(input('Enter your value of K: ' ))\n",
    "kuldeep(n)\n",
    "    "
   ]
  },
  {
   "cell_type": "code",
   "execution_count": 10,
   "id": "c66a80c5-c194-493b-805d-8acb24632a55",
   "metadata": {},
   "outputs": [
    {
     "name": "stdin",
     "output_type": "stream",
     "text": [
      "Enter a number:  5\n"
     ]
    },
    {
     "name": "stdout",
     "output_type": "stream",
     "text": [
      "id of argument number is:  140716446270504\n",
      "Parameter num has value: 5 \n",
      "id = 140716446270504\n",
      "num incremented by 5 is 10 \n",
      "Now id is  140716446270664\n"
     ]
    }
   ],
   "source": [
    "def incrvalue(num):\n",
    "    print(\"Parameter num has value:\",num,\"\\nid =\",id(num))\n",
    "    num += 5\n",
    "    print(\"num incremented by 5 is\",num,\"\\nNow id is \",id(num))\n",
    "number = int(input(\"Enter a number: \"))\n",
    "print(\"id of argument number is: \",id(number))\n",
    "incrvalue(number)"
   ]
  },
  {
   "cell_type": "code",
   "execution_count": 14,
   "id": "58f2d94c-5c04-486b-a209-8cbead7bc831",
   "metadata": {},
   "outputs": [
    {
     "name": "stdout",
     "output_type": "stream",
     "text": [
      "The calculated mean is: 2.3375\n"
     ]
    }
   ],
   "source": [
    "def kuldeepj(kul):\n",
    "    count=0\n",
    "    total=0\n",
    "    for i in kul:\n",
    "        count += 1\n",
    "        total += i\n",
    "        mean = total/count\n",
    "    print(\"The calculated mean is:\",mean)\n",
    "kul1= [1.3,1.2,1.4,2.4,2.1,2.6,4.5,3.2]\n",
    "kuldeepj(kul1)"
   ]
  },
  {
   "cell_type": "code",
   "execution_count": 18,
   "id": "dcc07759-b366-475c-81cf-812be9ae77f6",
   "metadata": {},
   "outputs": [
    {
     "name": "stdin",
     "output_type": "stream",
     "text": [
      "Enter Your Factoriyal value :   5\n"
     ]
    },
    {
     "name": "stdout",
     "output_type": "stream",
     "text": [
      "Factorial of 5 is 120\n"
     ]
    }
   ],
   "source": [
    "def calcfact(c):\n",
    "    fact = 1\n",
    "    for i in range(c,0,-1):\n",
    "        fact *= i\n",
    "    print(\"Factorial of\",c,\"is\",fact)\n",
    "call = int(input('Enter Your Factoriyal value :  '))\n",
    "calcfact(call)"
   ]
  },
  {
   "cell_type": "code",
   "execution_count": null,
   "id": "3f6feedf-535d-4c5f-8620-e98930c2a1bc",
   "metadata": {},
   "outputs": [],
   "source": [
    "def fullname(f,l):\n",
    "    fullname = f +_\" \" +l\n",
    "    print('Hello',fullname)\n",
    "fname = input('Enter Your First Name : ')\n",
    "lname = input('Enter Your Last Name : ')\n",
    "fullname(fname)"
   ]
  },
  {
   "cell_type": "code",
   "execution_count": 3,
   "id": "3405d14c-00cc-4dc7-a1bb-408ed40e9a3b",
   "metadata": {},
   "outputs": [
    {
     "name": "stdin",
     "output_type": "stream",
     "text": [
      "Enter the colour of the traffic light:  RED\n"
     ]
    },
    {
     "name": "stdout",
     "output_type": "stream",
     "text": [
      "STOP, Your Life is Precious.\n",
      "SPEED THRILLS BUT KILLS\n"
     ]
    }
   ],
   "source": [
    "def trafficLight():\n",
    "    signal = input(\"Enter the colour of the traffic light: \")\n",
    "    if (signal not in (\"RED\",\"YELLOW\",\"GREEN\")):\n",
    "        print(\"Please enter a valid Traffic Light colour in CAPITALS\")\n",
    "    else:\n",
    "        value = light(signal)\n",
    "    if (value == 0):\n",
    "        print(\"STOP, Your Life is Precious.\")\n",
    "    elif (value == 1):\n",
    "        print (\"PLEASE GO SLOW.\")\n",
    "    else:\n",
    "        print(\"GO!,Thank you for being patient.\")\n",
    "def light(colour):\n",
    "    if (colour == \"RED\"):\n",
    "        return(0)\n",
    "    elif (colour == \"YELLOW\"):\n",
    "        return (1)\n",
    "    else:\n",
    "        return(2)\n",
    "trafficLight()\n",
    "print(\"SPEED THRILLS BUT KILLS\")"
   ]
  },
  {
   "cell_type": "markdown",
   "id": "dcf10149-2292-4334-bb4a-729e860587e5",
   "metadata": {},
   "source": [
    "Program 7-9\n",
    "\n",
    "==> Write a program that accepts numerator\n",
    "and denominator of a fractional number\n",
    "and calls a user defined function\n",
    "mixedFraction() when the fraction\n",
    "formed is not a proper fraction. The\n",
    "default value of denominator is 1. The\n",
    "function displays a mixed fraction only\n",
    "if the fraction formed by the parameters\n",
    "does not evaluate to a whole number."
   ]
  },
  {
   "cell_type": "code",
   "execution_count": 7,
   "id": "c0c7ab30-09ce-4e80-a531-837d9246b3be",
   "metadata": {},
   "outputs": [
    {
     "name": "stdin",
     "output_type": "stream",
     "text": [
      "Enter the numerator:  20\n",
      "Enter the denominator:  3\n"
     ]
    },
    {
     "name": "stdout",
     "output_type": "stream",
     "text": [
      "You entered: 20 / 3\n",
      "The mixed fraction= 6 ( 2 / 3 )\n"
     ]
    }
   ],
   "source": [
    "def mixedFraction(num,deno = 1):\n",
    "    remainder = num % deno\n",
    "    if remainder != 0:\n",
    "        quotient = int(num/deno)\n",
    "        print(\"The mixed fraction=\", quotient,\"(\",remainder, \"/\",deno,\")\")\n",
    "    else:\n",
    "        print(\"The given fraction evaluates to a whole number\")\n",
    "\n",
    "num = int(input(\"Enter the numerator: \"))\n",
    "deno = int(input(\"Enter the denominator: \"))\n",
    "print(\"You entered:\",num,\"/\",deno)\n",
    "if num > deno:\n",
    "    mixedFraction(num,deno)\n",
    "else:\n",
    "    print(\"It is a proper fraction\")"
   ]
  },
  {
   "cell_type": "markdown",
   "id": "fe3f0cd3-d67d-4280-859b-7c7d5d235c25",
   "metadata": {},
   "source": [
    "Program 7-10\n",
    "\n",
    "==>   Write a program using user defined\n",
    "function calcPow() that accepts base\n",
    "and exponent as arguments and returns\n",
    "the value Baseexponent where Base and\n",
    "exponent are integers."
   ]
  },
  {
   "cell_type": "code",
   "execution_count": 8,
   "id": "10276d21-c0d2-446d-a403-8f4bd9fa9ff1",
   "metadata": {},
   "outputs": [
    {
     "name": "stdin",
     "output_type": "stream",
     "text": [
      "Enter the value for the Base:  5\n",
      "Enter the value for the Exponent:  3\n"
     ]
    },
    {
     "name": "stdout",
     "output_type": "stream",
     "text": [
      "5 raised to the power 3 is 125\n"
     ]
    }
   ],
   "source": [
    "def calcpow(number,power):\n",
    "    result = 1\n",
    "    for i in range(1,power+1):\n",
    "        result = result * number\n",
    "    return result\n",
    "base = int(input(\"Enter the value for the Base: \"))\n",
    "expo = int(input(\"Enter the value for the Exponent: \"))\n",
    "answer = calcpow(base,expo) #function call\n",
    "print(base,\"raised to the power\",expo,\"is\",answer) "
   ]
  },
  {
   "cell_type": "markdown",
   "id": "cbaf51b2-6019-4801-9880-0af121e893df",
   "metadata": {},
   "source": [
    "Program 7-11 \n",
    "\n",
    "==>  Program to understand the low of\n",
    " execution using functions."
   ]
  },
  {
   "cell_type": "code",
   "execution_count": 10,
   "id": "4aabfdd8-8090-49d2-9467-1bf2c9f9e618",
   "metadata": {},
   "outputs": [
    {
     "name": "stdout",
     "output_type": "stream",
     "text": [
      "I love Programming\n"
     ]
    }
   ],
   "source": [
    "def helloPython():\n",
    "    print(\"I love Programming\")\n",
    "helloPython()"
   ]
  },
  {
   "cell_type": "markdown",
   "id": "a839c594-6d50-4b76-8279-4f1cada06a12",
   "metadata": {},
   "source": [
    "Program 7-12 \n",
    "\n",
    "==>  Write a program using user defined\n",
    "function that accepts length and breadth\n",
    "of a rectangle and returns the area and\n",
    "perimeter of the rectangle."
   ]
  },
  {
   "cell_type": "code",
   "execution_count": 26,
   "id": "39e85209-3323-4bf1-a7e9-115afaa1de6d",
   "metadata": {},
   "outputs": [
    {
     "name": "stdin",
     "output_type": "stream",
     "text": [
      "Enter length of the rectangle:  45\n",
      "Enter breadth of the rectangle:  66\n"
     ]
    },
    {
     "name": "stdout",
     "output_type": "stream",
     "text": [
      "Area is: 2970.0 \n",
      "Perimeter is: 222.0\n"
     ]
    }
   ],
   "source": [
    "def calcAreaPeri(length,breadth):\n",
    "    area = length * breadth\n",
    "    perimeter = 2 * (length + breadth)\n",
    "    return (area,perimeter)\n",
    "    \n",
    "l = float(input(\"Enter length of the rectangle: \"))\n",
    "b = float(input(\"Enter breadth of the rectangle: \"))\n",
    "\n",
    "area, perimeter = calcAreaPeri(l, b)\n",
    "\n",
    "print(\"Area is:\",area,\"\\nPerimeter is:\",perimeter)"
   ]
  },
  {
   "cell_type": "markdown",
   "id": "35ec3a52-3fcb-4e7b-86bb-30ad3e41f733",
   "metadata": {},
   "source": [
    "Program 7-13  \n",
    "\n",
    "==>   Write a program that simulates a traffic\n",
    " light . The program should consist of the\n",
    " following:"
   ]
  },
  {
   "cell_type": "code",
   "execution_count": 19,
   "id": "68d5ed6a-faf6-4daf-8566-9a9bc426cac1",
   "metadata": {},
   "outputs": [
    {
     "name": "stdin",
     "output_type": "stream",
     "text": [
      "Enter the colour of the traffic light:  RED\n"
     ]
    },
    {
     "name": "stdout",
     "output_type": "stream",
     "text": [
      "STOP, Your Life is Precious.\n",
      "SPEED THRILLS BUT KILLS\n"
     ]
    }
   ],
   "source": [
    "def trafficLight():\n",
    "    signal = input(\"Enter the colour of the traffic light: \")\n",
    "    if (signal not in (\"RED\",\"YELLOW\",\"GREEN\")):\n",
    "        print(\"Please enter a valid Traffic Light colour inCAPITALS\")\n",
    "    else:\n",
    "        value = light(signal) #function call to light()\n",
    "        if (value == 0):\n",
    "            print(\"STOP, Your Life is Precious.\")\n",
    "        elif (value == 1):\n",
    "            print (\"PLEASE GO SLOW.\")\n",
    "        else:\n",
    "            print(\"GO!,Thank you for being patient.\")\n",
    "\n",
    "\n",
    "def light(colour):\n",
    "    if (colour == \"RED\"):\n",
    "        return(0);\n",
    "    elif (colour == \"YELLOW\"):\n",
    "        return (1)\n",
    "    else:\n",
    "        return(2)\n",
    "\n",
    "trafficLight()\n",
    "print(\"SPEED THRILLS BUT KILLS\")"
   ]
  },
  {
   "cell_type": "markdown",
   "id": "b1464fe9-7004-4eaa-85ae-5c85c793232f",
   "metadata": {},
   "source": [
    "Program 7-14 \n",
    "\n",
    "==>  Program to access any variable outside\n",
    " the function"
   ]
  },
  {
   "cell_type": "code",
   "execution_count": 25,
   "id": "c56945df-6822-4fbc-b14e-b6bf4d97811b",
   "metadata": {},
   "outputs": [
    {
     "name": "stdout",
     "output_type": "stream",
     "text": [
      "Accessing num -> (global) in myFunc1, value =  5\n",
      "Accessing y-> (local variable of myFunc1) accessible, value= 10\n",
      "Accessing num outside myFunc1  5\n",
      "Accessing y outside myFunc1  5\n"
     ]
    }
   ],
   "source": [
    "num = 5\n",
    "def myFunc1( ):\n",
    "    y = num + 5\n",
    "    print(\"Accessing num -> (global) in myFunc1, value = \",num)\n",
    "    print(\"Accessing y-> (local variable of myFunc1) accessible, value=\",y)\n",
    "\n",
    "    \n",
    "myFunc1()\n",
    "print(\"Accessing num outside myFunc1 \",num)\n",
    "print(\"Accessing y outside myFunc1 \",num)"
   ]
  },
  {
   "cell_type": "markdown",
   "id": "bf989685-cacb-4c16-b2ca-a6fe00f840a0",
   "metadata": {},
   "source": [
    "Program 7-15 \n",
    "\n",
    "==>   Write a program to access any variable\n",
    " outside the function."
   ]
  },
  {
   "cell_type": "code",
   "execution_count": 27,
   "id": "3f386733-19c9-451a-82d1-9fa3f9ff9877",
   "metadata": {},
   "outputs": [
    {
     "name": "stdout",
     "output_type": "stream",
     "text": [
      "Accessing num = 5\n",
      "num reassigned = 10\n",
      "Accessing num outside myfunc1 10\n"
     ]
    }
   ],
   "source": [
    "num = 5\n",
    "def myfunc1():\n",
    "    global num\n",
    "    print(\"Accessing num =\",num)\n",
    "    num = 10\n",
    "    print(\"num reassigned =\",num)\n",
    "\n",
    "myfunc1()\n",
    "print(\"Accessing num outside myfunc1\",num)"
   ]
  },
  {
   "cell_type": "markdown",
   "id": "498ff807-f446-4666-80ee-b2755e6458ce",
   "metadata": {},
   "source": [
    "Program 7-16 \n",
    "\n",
    "==>   Create a user defined module basic_\n",
    " math that contains the following user\n",
    " defined functions:"
   ]
  },
  {
   "cell_type": "code",
   "execution_count": 34,
   "id": "5efda247-88d5-4804-b268-097b231499aa",
   "metadata": {},
   "outputs": [
    {
     "name": "stdin",
     "output_type": "stream",
     "text": [
      "Enter your X ki value:  3\n",
      "Enter your Y ki value:  3\n"
     ]
    },
    {
     "data": {
      "text/plain": [
       "6"
      ]
     },
     "execution_count": 34,
     "metadata": {},
     "output_type": "execute_result"
    }
   ],
   "source": [
    "def addnum(x,y):\n",
    "    return(x + y)\n",
    "xx = int(input('Enter your X ki value: '))\n",
    "yy = int(input('Enter your Y ki value: ')) \n",
    "addnum(xx,yy)"
   ]
  },
  {
   "cell_type": "code",
   "execution_count": 35,
   "id": "4c318b64-099a-4823-8bff-04cd88a392ce",
   "metadata": {},
   "outputs": [
    {
     "name": "stdin",
     "output_type": "stream",
     "text": [
      "Enter your X ki value:  3\n",
      "Enter your Y ki value:  3\n"
     ]
    },
    {
     "data": {
      "text/plain": [
       "0"
      ]
     },
     "execution_count": 35,
     "metadata": {},
     "output_type": "execute_result"
    }
   ],
   "source": [
    "def subnum(x,y):\n",
    "    return(x - y)\n",
    "xx = int(input('Enter your X ki value: '))\n",
    "yy = int(input('Enter your Y ki value: ')) \n",
    "subnum(xx,yy)"
   ]
  },
  {
   "cell_type": "code",
   "execution_count": 36,
   "id": "373cda58-29a8-406a-a1bd-0d93b532af65",
   "metadata": {},
   "outputs": [
    {
     "name": "stdin",
     "output_type": "stream",
     "text": [
      "Enter your X ki value:  3\n",
      "Enter your Y ki value:  3\n"
     ]
    },
    {
     "data": {
      "text/plain": [
       "9"
      ]
     },
     "execution_count": 36,
     "metadata": {},
     "output_type": "execute_result"
    }
   ],
   "source": [
    "def multnum(x,y):\n",
    "    return(x * y)\n",
    "xx = int(input('Enter your X ki value: '))\n",
    "yy = int(input('Enter your Y ki value: ')) \n",
    "multnum(xx,yy)"
   ]
  },
  {
   "cell_type": "code",
   "execution_count": 37,
   "id": "ab3b3adb-65a9-47f6-93aa-6cf62f24f7da",
   "metadata": {},
   "outputs": [
    {
     "name": "stdin",
     "output_type": "stream",
     "text": [
      "Enter your X ki value:  3\n",
      "Enter your Y ki value:  3\n"
     ]
    },
    {
     "data": {
      "text/plain": [
       "1.0"
      ]
     },
     "execution_count": 37,
     "metadata": {},
     "output_type": "execute_result"
    }
   ],
   "source": [
    "def divnum(x,y):\n",
    "    if y == 0:\n",
    "        print (\"Division by Zero Error\")\n",
    "    else:\n",
    "        return (x/y) \n",
    "xx = int(input('Enter your X ki value: '))\n",
    "yy = int(input('Enter your Y ki value: ')) \n",
    "divnum(xx,yy)"
   ]
  }
 ],
 "metadata": {
  "kernelspec": {
   "display_name": "Python 3 (ipykernel)",
   "language": "python",
   "name": "python3"
  },
  "language_info": {
   "codemirror_mode": {
    "name": "ipython",
    "version": 3
   },
   "file_extension": ".py",
   "mimetype": "text/x-python",
   "name": "python",
   "nbconvert_exporter": "python",
   "pygments_lexer": "ipython3",
   "version": "3.13.5"
  }
 },
 "nbformat": 4,
 "nbformat_minor": 5
}
