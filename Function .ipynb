{
 "cells": [
  {
   "cell_type": "code",
   "execution_count": 1,
   "id": "4b715da6-1029-441d-8c09-37b2ae99fb55",
   "metadata": {},
   "outputs": [
    {
     "name": "stdout",
     "output_type": "stream",
     "text": [
      "Enter values of cylindrical part of the tent in meters:\n"
     ]
    },
    {
     "name": "stdin",
     "output_type": "stream",
     "text": [
      "Height:  4\n",
      "Radius:  5\n",
      "Enter slant height of the conical area in meters:  6\n"
     ]
    },
    {
     "name": "stdout",
     "output_type": "stream",
     "text": [
      "Area of canvas =  219.8\n"
     ]
    },
    {
     "name": "stdin",
     "output_type": "stream",
     "text": [
      "Enter cost of 1 canvas in rupees:  18000\n"
     ]
    },
    {
     "name": "stdout",
     "output_type": "stream",
     "text": [
      "Total cost of canvas before tax =  3956400.0\n",
      "Net amount payable (including tax) =  4668552.0\n"
     ]
    }
   ],
   "source": [
    "def cyl(h,r):\n",
    "    area_cyl = 2*3.14*r*h\n",
    "    return(area_cyl)\n",
    "def con(l,r):\n",
    "    area_con = 3.14*r*l\n",
    "    return(area_con)\n",
    "def post_tax_price(cost):\n",
    "    tax = 0.18 * cost;\n",
    "    net_price = cost + tax\n",
    "    return(net_price)\n",
    "print(\"Enter values of cylindrical part of the tent in meters:\")\n",
    "h = float(input(\"Height: \"))\n",
    "r = float(input(\"Radius: \"))\n",
    "csa_cyl = cyl(h,r) \n",
    "l = float(input(\"Enter slant height of the conical area in meters: \"))\n",
    "csa_con = con(l,r)\n",
    "canvas_area = csa_cyl + csa_con\n",
    "print(\"Area of canvas = \",canvas_area,)\n",
    "unit_price = float(input(\"Enter cost of 1 canvas in rupees: \"))\n",
    "total_cost = unit_price * canvas_area\n",
    "print(\"Total cost of canvas before tax = \",total_cost)\n",
    "print(\"Net amount payable (including tax) = \",post_tax_price(total_cost))"
   ]
  },
  {
   "cell_type": "code",
   "execution_count": 4,
   "id": "52ef73ca-de1a-41b4-9c49-de23d9685799",
   "metadata": {},
   "outputs": [
    {
     "name": "stdin",
     "output_type": "stream",
     "text": [
      "Enter your first number 22\n",
      "Enter Your Second npmber 22\n"
     ]
    },
    {
     "name": "stdout",
     "output_type": "stream",
     "text": [
      "44\n"
     ]
    }
   ],
   "source": [
    "def addnum():\n",
    "    fnum = int(input('Enter your first number'))\n",
    "    snum = int(input('Enter Your Second npmber'))\n",
    "    sum1 = fnum + snum\n",
    "    print(sum1)\n",
    "addnum()"
   ]
  },
  {
   "cell_type": "code",
   "execution_count": 7,
   "id": "e1b6b33f-ba59-4ed5-a830-c2d71e1fff70",
   "metadata": {},
   "outputs": [
    {
     "name": "stdin",
     "output_type": "stream",
     "text": [
      "Enter your value of K:  22\n"
     ]
    },
    {
     "name": "stdout",
     "output_type": "stream",
     "text": [
      "253\n"
     ]
    }
   ],
   "source": [
    "def kuldeep(K):\n",
    "    sum2 = 0\n",
    "    for i in range(1,K+1):\n",
    "        sum2 += i\n",
    "    print(sum2)\n",
    "n = int(input('Enter your value of K: ' ))\n",
    "kuldeep(n)\n",
    "    "
   ]
  },
  {
   "cell_type": "code",
   "execution_count": 10,
   "id": "c66a80c5-c194-493b-805d-8acb24632a55",
   "metadata": {},
   "outputs": [
    {
     "name": "stdin",
     "output_type": "stream",
     "text": [
      "Enter a number:  5\n"
     ]
    },
    {
     "name": "stdout",
     "output_type": "stream",
     "text": [
      "id of argument number is:  140716446270504\n",
      "Parameter num has value: 5 \n",
      "id = 140716446270504\n",
      "num incremented by 5 is 10 \n",
      "Now id is  140716446270664\n"
     ]
    }
   ],
   "source": [
    "def incrvalue(num):\n",
    "    print(\"Parameter num has value:\",num,\"\\nid =\",id(num))\n",
    "    num += 5\n",
    "    print(\"num incremented by 5 is\",num,\"\\nNow id is \",id(num))\n",
    "number = int(input(\"Enter a number: \"))\n",
    "print(\"id of argument number is: \",id(number))\n",
    "incrvalue(number)"
   ]
  },
  {
   "cell_type": "code",
   "execution_count": 14,
   "id": "58f2d94c-5c04-486b-a209-8cbead7bc831",
   "metadata": {},
   "outputs": [
    {
     "name": "stdout",
     "output_type": "stream",
     "text": [
      "The calculated mean is: 2.3375\n"
     ]
    }
   ],
   "source": [
    "def kuldeepj(kul):\n",
    "    count=0\n",
    "    total=0\n",
    "    for i in kul:\n",
    "        count += 1\n",
    "        total += i\n",
    "        mean = total/count\n",
    "    print(\"The calculated mean is:\",mean)\n",
    "kul1= [1.3,1.2,1.4,2.4,2.1,2.6,4.5,3.2]\n",
    "kuldeepj(kul1)"
   ]
  },
  {
   "cell_type": "code",
   "execution_count": 18,
   "id": "dcc07759-b366-475c-81cf-812be9ae77f6",
   "metadata": {},
   "outputs": [
    {
     "name": "stdin",
     "output_type": "stream",
     "text": [
      "Enter Your Factoriyal value :   5\n"
     ]
    },
    {
     "name": "stdout",
     "output_type": "stream",
     "text": [
      "Factorial of 5 is 120\n"
     ]
    }
   ],
   "source": [
    "def calcfact(c):\n",
    "    fact = 1\n",
    "    for i in range(c,0,-1):\n",
    "        fact *= i\n",
    "    print(\"Factorial of\",c,\"is\",fact)\n",
    "call = int(input('Enter Your Factoriyal value :  '))\n",
    "calcfact(call)"
   ]
  },
  {
   "cell_type": "code",
   "execution_count": null,
   "id": "3f6feedf-535d-4c5f-8620-e98930c2a1bc",
   "metadata": {},
   "outputs": [],
   "source": [
    "def fullname(f,l):\n",
    "    fullname = f +_\" \" +l\n",
    "    print('Hello',fullname)\n",
    "fname = input('Enter Your First Name : ')\n",
    "lname = input('Enter Your Last Name : ')\n",
    "fullname(fname)"
   ]
  },
  {
   "cell_type": "code",
   "execution_count": 3,
   "id": "3405d14c-00cc-4dc7-a1bb-408ed40e9a3b",
   "metadata": {},
   "outputs": [
    {
     "name": "stdin",
     "output_type": "stream",
     "text": [
      "Enter the colour of the traffic light:  RED\n"
     ]
    },
    {
     "name": "stdout",
     "output_type": "stream",
     "text": [
      "STOP, Your Life is Precious.\n",
      "SPEED THRILLS BUT KILLS\n"
     ]
    }
   ],
   "source": [
    "def trafficLight():\n",
    "    signal = input(\"Enter the colour of the traffic light: \")\n",
    "    if (signal not in (\"RED\",\"YELLOW\",\"GREEN\")):\n",
    "        print(\"Please enter a valid Traffic Light colour in CAPITALS\")\n",
    "    else:\n",
    "        value = light(signal)\n",
    "    if (value == 0):\n",
    "        print(\"STOP, Your Life is Precious.\")\n",
    "    elif (value == 1):\n",
    "        print (\"PLEASE GO SLOW.\")\n",
    "    else:\n",
    "        print(\"GO!,Thank you for being patient.\")\n",
    "def light(colour):\n",
    "    if (colour == \"RED\"):\n",
    "        return(0)\n",
    "    elif (colour == \"YELLOW\"):\n",
    "        return (1)\n",
    "    else:\n",
    "        return(2)\n",
    "trafficLight()\n",
    "print(\"SPEED THRILLS BUT KILLS\")"
   ]
  }
 ],
 "metadata": {
  "kernelspec": {
   "display_name": "Python 3 (ipykernel)",
   "language": "python",
   "name": "python3"
  },
  "language_info": {
   "codemirror_mode": {
    "name": "ipython",
    "version": 3
   },
   "file_extension": ".py",
   "mimetype": "text/x-python",
   "name": "python",
   "nbconvert_exporter": "python",
   "pygments_lexer": "ipython3",
   "version": "3.13.5"
  }
 },
 "nbformat": 4,
 "nbformat_minor": 5
}
