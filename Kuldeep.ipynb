{
 "cells": [
  {
   "cell_type": "code",
   "execution_count": 2,
   "id": "3b9d23e5-0c7b-43cc-ad63-07ef2a4e8561",
   "metadata": {},
   "outputs": [
    {
     "name": "stdout",
     "output_type": "stream",
     "text": [
      "1\n",
      "2\n",
      "3\n",
      "4\n",
      "5\n"
     ]
    }
   ],
   "source": [
    "num =1\n",
    "while num <= 5:\n",
    "    print(num)\n",
    "    num+=1"
   ]
  },
  {
   "cell_type": "code",
   "execution_count": 2,
   "id": "f5658ac6-b5d3-4d3a-b3c0-66270e23abe8",
   "metadata": {},
   "outputs": [
    {
     "name": "stdin",
     "output_type": "stream",
     "text": [
      "Enter Your number:  90\n"
     ]
    },
    {
     "name": "stdout",
     "output_type": "stream",
     "text": [
      "1 2 3 5 6 9 10 15 18 30 45 90 "
     ]
    }
   ],
   "source": [
    "num = int(input(\"Enter Your number: \"))\n",
    "print(1,end=\" \")\n",
    "factor = 2\n",
    "while factor <= num/2 :\n",
    "    if num % factor == 0 :\n",
    "        print(factor,end=\" \")\n",
    "    factor += 1\n",
    "    \n",
    "print(num,end=\" \")"
   ]
  },
  {
   "cell_type": "code",
   "execution_count": 3,
   "id": "b43ec5d8-de15-4fc5-85b3-ab002822fb16",
   "metadata": {},
   "outputs": [
    {
     "name": "stdin",
     "output_type": "stream",
     "text": [
      "Enter your number:  10\n"
     ]
    },
    {
     "name": "stdout",
     "output_type": "stream",
     "text": [
      "10 is not a prime number\n"
     ]
    }
   ],
   "source": [
    "num = int(input('Enter your number: '))\n",
    "fleg = 0\n",
    "if num >1:\n",
    "    for i in range(2,num):\n",
    "        if(num % i == 0):\n",
    "            fleg = 1\n",
    "            break\n",
    "    if fleg == 1:\n",
    "        print(num,\"is not a prime number\")\n",
    "    else :\n",
    "        print(num ,\" is a prime number\")\n",
    "else :\n",
    "    print('Enter number is <= 1,execute again!')"
   ]
  },
  {
   "cell_type": "code",
   "execution_count": 5,
   "id": "c191bc74-fcc9-4c6b-aaf9-77331f8049ab",
   "metadata": {},
   "outputs": [
    {
     "name": "stdout",
     "output_type": "stream",
     "text": [
      "num has value :  1\n",
      "num has value :  2\n",
      "num has value :  4\n",
      "num has value :  5\n",
      "num has value :  6\n",
      "end of loop\n"
     ]
    }
   ],
   "source": [
    "num = 0\n",
    "for num in range(0,6):\n",
    "    num += 1\n",
    "    if num ==3:\n",
    "        continue\n",
    "    print('num has value :  ' + str(num))\n",
    "print('end of loop')"
   ]
  },
  {
   "cell_type": "code",
   "execution_count": 5,
   "id": "57f501d5-692c-441f-a9a3-0545ae62eea2",
   "metadata": {},
   "outputs": [
    {
     "name": "stdout",
     "output_type": "stream",
     "text": [
      "[0, 3, 6, 9, 12, 15]\n"
     ]
    }
   ],
   "source": [
    "let = list(range(0,16,3))\n",
    "print(let)"
   ]
  },
  {
   "cell_type": "code",
   "execution_count": 6,
   "id": "3fad5561-5b42-40f5-ad26-93696e21d7dc",
   "metadata": {},
   "outputs": [
    {
     "name": "stdin",
     "output_type": "stream",
     "text": [
      "Enter your number 19\n"
     ]
    },
    {
     "name": "stdout",
     "output_type": "stream",
     "text": [
      "19\n",
      "38\n",
      "57\n",
      "76\n",
      "95\n",
      "114\n",
      "133\n",
      "152\n",
      "171\n",
      "190\n"
     ]
    }
   ],
   "source": [
    "let = int(input('Enter your number'))\n",
    "for i in range(1,11):\n",
    "    print(let * i)"
   ]
  },
  {
   "cell_type": "code",
   "execution_count": 9,
   "id": "cdb44ca4-d96d-4bc0-96a8-6f0b68ef48c5",
   "metadata": {},
   "outputs": [
    {
     "name": "stdout",
     "output_type": "stream",
     "text": [
      "4\n",
      "6\n",
      "8\n",
      "10\n",
      "12\n",
      "14\n",
      "16\n",
      "18\n",
      "20\n",
      "22\n"
     ]
    }
   ],
   "source": [
    "let =2\n",
    "while let <=21 :\n",
    "    let += 2\n",
    "    print(let)\n"
   ]
  },
  {
   "cell_type": "code",
   "execution_count": 4,
   "id": "113e060b-390d-4f72-9886-504c0f10e933",
   "metadata": {},
   "outputs": [
    {
     "name": "stdin",
     "output_type": "stream",
     "text": [
      "Enter a number to find its factor:  100\n"
     ]
    },
    {
     "name": "stdout",
     "output_type": "stream",
     "text": [
      "1 2 4 5 10 20 25 50 100 "
     ]
    }
   ],
   "source": [
    "# Find the factors of a number using while loop\n",
    "num = int(input(\"Enter a number to find its factor: \"))\n",
    "print(1,end=\" \")\n",
    "factor = 2\n",
    "while factor <= num/2 :\n",
    "    if num % factor == 0 :\n",
    "        print(factor,end=\" \")\n",
    "    factor += 1\n",
    "\n",
    "print(num,end=\" \")"
   ]
  },
  {
   "cell_type": "code",
   "execution_count": 3,
   "id": "cb3e41e3-c45a-4e3e-a8a9-b6cc0d5269a2",
   "metadata": {},
   "outputs": [
    {
     "name": "stdin",
     "output_type": "stream",
     "text": [
      "Enter a number to find its factor:  100\n"
     ]
    },
    {
     "name": "stdout",
     "output_type": "stream",
     "text": [
      "1 2 4 5 10 20 25 50 100 "
     ]
    }
   ],
   "source": [
    "num = int(input(\"Enter a number to find its factor: \"))\n",
    "print(1,end=' ')\n",
    "factor = 2\n",
    "while factor <= num/2 :\n",
    "    if num % factor == 0 :\n",
    "        print(factor,end = ' ')\n",
    "    factor +=1\n",
    "print(num,end=' ')"
   ]
  },
  {
   "cell_type": "code",
   "execution_count": 1,
   "id": "cd2d1cae-c4a5-415e-9d95-163ad68a2674",
   "metadata": {},
   "outputs": [
    {
     "data": {
      "text/plain": [
       "15"
      ]
     },
     "execution_count": 1,
     "metadata": {},
     "output_type": "execute_result"
    }
   ],
   "source": [
    "str1 = 'Hello , Kuldeep'\n",
    "len(str1)"
   ]
  },
  {
   "cell_type": "code",
   "execution_count": 2,
   "id": "743f8274-98d5-413c-ae89-888ad8637bb0",
   "metadata": {},
   "outputs": [
    {
     "data": {
      "text/plain": [
       "'Hello Kuldeep'"
      ]
     },
     "execution_count": 2,
     "metadata": {},
     "output_type": "execute_result"
    }
   ],
   "source": [
    "str1 = 'hello kuldeep'\n",
    "str1.title()"
   ]
  },
  {
   "cell_type": "code",
   "execution_count": 4,
   "id": "04efb0f9-f70b-4ad0-a4b6-f49fb678dea1",
   "metadata": {},
   "outputs": [
    {
     "data": {
      "text/plain": [
       "'hello kuldeep'"
      ]
     },
     "execution_count": 4,
     "metadata": {},
     "output_type": "execute_result"
    }
   ],
   "source": [
    "str1 = 'Hello KULDEEP'\n",
    "str1.lower()"
   ]
  },
  {
   "cell_type": "code",
   "execution_count": 5,
   "id": "27f77115-2e8d-42b0-b437-8e7fa5ef6c48",
   "metadata": {},
   "outputs": [
    {
     "data": {
      "text/plain": [
       "'HELLO , KULDEEP'"
      ]
     },
     "execution_count": 5,
     "metadata": {},
     "output_type": "execute_result"
    }
   ],
   "source": [
    "str1 = 'hello , kuldeep'\n",
    "str1.upper()"
   ]
  },
  {
   "cell_type": "code",
   "execution_count": 9,
   "id": "7beed067-4eef-42e6-b097-6d2d7bbda81c",
   "metadata": {},
   "outputs": [
    {
     "data": {
      "text/plain": [
       "17"
      ]
     },
     "execution_count": 9,
     "metadata": {},
     "output_type": "execute_result"
    }
   ],
   "source": [
    "str1 = \"Hello World! Hello Hello Hello World! Hello Hello Hello World! Hello Hello Hello World! Hello Hello Hello World! Hello Hello Hello World! Hello Hello\"\n",
    "len(str1)\n",
    "str1.count('Hello',12,100)\n",
    "str1.count('Hello')\n",
    "str1.count('Hello',12,150)"
   ]
  },
  {
   "cell_type": "code",
   "execution_count": 10,
   "id": "335c6541-d288-4d2e-af07-fc7a19947d78",
   "metadata": {},
   "outputs": [
    {
     "data": {
      "text/plain": [
       "-1"
      ]
     },
     "execution_count": 10,
     "metadata": {},
     "output_type": "execute_result"
    }
   ],
   "source": [
    "str1 = \"Hello Hello Hello Hello World! Hello Hello Hello World! Hello Hello Hello World! Hello Hello Hello World! Hello Hello Hello World! Hello Hello\"\n",
    "len(str1)\n",
    "#str1.find('World',12,100)\n",
    "#str1.find('Hello')\n",
    "str1.find('Hello',13,15)"
   ]
  },
  {
   "cell_type": "code",
   "execution_count": 10,
   "id": "41f8aa11-aaf3-400f-9fc4-7ba8203bc710",
   "metadata": {},
   "outputs": [
    {
     "name": "stdin",
     "output_type": "stream",
     "text": [
      "Enter a string :  kuldeep\n"
     ]
    },
    {
     "name": "stdout",
     "output_type": "stream",
     "text": [
      "-1-2-3-4-5-6-7"
     ]
    }
   ],
   "source": [
    "st = input(\"Enter a string : \")\n",
    "for i in range(-1,-len(st)-1,-1):\n",
    "    print(st[i],end='')"
   ]
  },
  {
   "cell_type": "code",
   "execution_count": 12,
   "id": "6e3a6350-8503-4f6a-adc4-c48c7ee0466b",
   "metadata": {},
   "outputs": [
    {
     "name": "stdout",
     "output_type": "stream",
     "text": [
      "-11\n",
      "-10\n",
      "-9\n",
      "-8\n",
      "-7\n",
      "-6\n",
      "-5\n",
      "-4\n",
      "-3\n",
      "-2\n"
     ]
    }
   ],
   "source": [
    "for i in range(-11,-1):\n",
    "    print(i)"
   ]
  },
  {
   "cell_type": "code",
   "execution_count": 17,
   "id": "bf7250e4-d30b-43e8-af55-9ce81d64e32b",
   "metadata": {},
   "outputs": [],
   "source": [
    "list1 = [10,20,30,40]\n",
    "list1.append([50,60])"
   ]
  },
  {
   "cell_type": "code",
   "execution_count": 18,
   "id": "4b42b24a-a4a4-4f64-a166-8e9a8e23149b",
   "metadata": {},
   "outputs": [
    {
     "data": {
      "text/plain": [
       "[10, 20, 30, 40, [50, 60]]"
      ]
     },
     "execution_count": 18,
     "metadata": {},
     "output_type": "execute_result"
    }
   ],
   "source": [
    "list1"
   ]
  },
  {
   "cell_type": "code",
   "execution_count": 24,
   "id": "6df3e718-0355-49b6-a034-b19775f3f5ea",
   "metadata": {},
   "outputs": [],
   "source": [
    "list2 = [10,20,30,40]\n",
    "list2.append(50)"
   ]
  },
  {
   "cell_type": "code",
   "execution_count": 25,
   "id": "66ed1360-a71b-47af-b498-4a34f0707a47",
   "metadata": {},
   "outputs": [
    {
     "data": {
      "text/plain": [
       "[10, 20, 30, 40, 50]"
      ]
     },
     "execution_count": 25,
     "metadata": {},
     "output_type": "execute_result"
    }
   ],
   "source": [
    "list2"
   ]
  },
  {
   "cell_type": "code",
   "execution_count": 41,
   "id": "d8a0a29b-ddaa-4d74-abff-3a02bbb5a547",
   "metadata": {},
   "outputs": [],
   "source": [
    "list3 = [10,20,30]\n",
    "list4 = [40,50]\n",
    "list3.extend(list4)"
   ]
  },
  {
   "cell_type": "code",
   "execution_count": 45,
   "id": "94422b4f-dec2-4193-8ade-859bb64e1171",
   "metadata": {},
   "outputs": [
    {
     "data": {
      "text/plain": [
       "[10, 20, 30, 40, 50]"
      ]
     },
     "execution_count": 45,
     "metadata": {},
     "output_type": "execute_result"
    }
   ],
   "source": [
    "list3"
   ]
  },
  {
   "cell_type": "code",
   "execution_count": 43,
   "id": "e3726d58-986c-4157-aaa0-3145d04ddbd6",
   "metadata": {},
   "outputs": [],
   "source": [
    "list5 = [10,20,30,40,50]\n",
    "list5.insert(2,25)"
   ]
  },
  {
   "cell_type": "code",
   "execution_count": 44,
   "id": "bedb415f-f19b-4835-b9cb-2f91e2890cbe",
   "metadata": {},
   "outputs": [
    {
     "data": {
      "text/plain": [
       "[10, 20, 25, 30, 40, 50]"
      ]
     },
     "execution_count": 44,
     "metadata": {},
     "output_type": "execute_result"
    }
   ],
   "source": [
    "list5"
   ]
  },
  {
   "cell_type": "code",
   "execution_count": 52,
   "id": "089528d4-b445-4f25-ba88-e36d2364ddc0",
   "metadata": {},
   "outputs": [
    {
     "data": {
      "text/plain": [
       "1"
      ]
     },
     "execution_count": 52,
     "metadata": {},
     "output_type": "execute_result"
    }
   ],
   "source": [
    "list6 = [10,20,30,20,40,10]\n",
    "list6.index(20)"
   ]
  },
  {
   "cell_type": "code",
   "execution_count": 54,
   "id": "25964d43-ef50-47a7-a0c6-3994c58192bf",
   "metadata": {},
   "outputs": [],
   "source": [
    "list7 = [10,20,30,40,50]\n",
    "list7.insert(2,25)"
   ]
  },
  {
   "cell_type": "code",
   "execution_count": 55,
   "id": "3602fbc2-d46c-4900-a73c-98b3696b4cf9",
   "metadata": {},
   "outputs": [
    {
     "data": {
      "text/plain": [
       "[10, 20, 25, 30, 40, 50]"
      ]
     },
     "execution_count": 55,
     "metadata": {},
     "output_type": "execute_result"
    }
   ],
   "source": [
    "list7"
   ]
  },
  {
   "cell_type": "code",
   "execution_count": 58,
   "id": "bade8bb2-f26b-4b8f-9d17-26ab30b24a10",
   "metadata": {},
   "outputs": [],
   "source": [
    "list8 = [10,20,30,40,50,30]\n",
    "list8.remove(30)"
   ]
  },
  {
   "cell_type": "code",
   "execution_count": 59,
   "id": "36fecd04-1883-4f36-9503-59a0c8d1de83",
   "metadata": {},
   "outputs": [
    {
     "data": {
      "text/plain": [
       "[10, 20, 40, 50, 30]"
      ]
     },
     "execution_count": 59,
     "metadata": {},
     "output_type": "execute_result"
    }
   ],
   "source": [
    "list8"
   ]
  },
  {
   "cell_type": "code",
   "execution_count": 64,
   "id": "36eb6ce9-18d1-465b-9c69-2c2b610d28da",
   "metadata": {},
   "outputs": [
    {
     "data": {
      "text/plain": [
       "40"
      ]
     },
     "execution_count": 64,
     "metadata": {},
     "output_type": "execute_result"
    }
   ],
   "source": [
    "list1 = [10,20,30,40,50,60]\n",
    "list1.pop(3)"
   ]
  },
  {
   "cell_type": "code",
   "execution_count": 62,
   "id": "f4915cf3-332e-4b95-8870-d620ebced81b",
   "metadata": {},
   "outputs": [],
   "source": [
    "list10 = [34,66,12,89,28,99]\n",
    "list10.reverse()"
   ]
  },
  {
   "cell_type": "code",
   "execution_count": 63,
   "id": "d8e1a5dd-b015-42f2-82a1-07f4ad1764ee",
   "metadata": {},
   "outputs": [
    {
     "data": {
      "text/plain": [
       "[99, 28, 89, 12, 66, 34]"
      ]
     },
     "execution_count": 63,
     "metadata": {},
     "output_type": "execute_result"
    }
   ],
   "source": [
    "list10"
   ]
  },
  {
   "cell_type": "code",
   "execution_count": 65,
   "id": "ce6733ea-17bc-4585-950c-82536262e347",
   "metadata": {},
   "outputs": [],
   "source": [
    "list1 = ['Tiger','Zebra','Lion','Cat', 'Elephant' ,'Dog']\n",
    "list1.sort()"
   ]
  },
  {
   "cell_type": "code",
   "execution_count": 66,
   "id": "1425d0e1-37fd-4c8a-b31f-6385f9d72922",
   "metadata": {},
   "outputs": [
    {
     "data": {
      "text/plain": [
       "['Cat', 'Dog', 'Elephant', 'Lion', 'Tiger', 'Zebra']"
      ]
     },
     "execution_count": 66,
     "metadata": {},
     "output_type": "execute_result"
    }
   ],
   "source": [
    "list1"
   ]
  },
  {
   "cell_type": "code",
   "execution_count": 73,
   "id": "2cfcc751-4827-4044-bdfc-5c6340940688",
   "metadata": {},
   "outputs": [],
   "source": [
    "list1 = [34,66,12,89,28,99]\n",
    "list1.sort(reverse = True)"
   ]
  },
  {
   "cell_type": "code",
   "execution_count": 74,
   "id": "fe11f71a-1635-4b15-a61b-38d89822bdb4",
   "metadata": {},
   "outputs": [
    {
     "data": {
      "text/plain": [
       "[99, 89, 66, 34, 28, 12]"
      ]
     },
     "execution_count": 74,
     "metadata": {},
     "output_type": "execute_result"
    }
   ],
   "source": [
    "list1"
   ]
  },
  {
   "cell_type": "code",
   "execution_count": 75,
   "id": "aed3d326-db50-4387-8280-3d900516aadc",
   "metadata": {},
   "outputs": [],
   "source": [
    "list1 = [23,45,11,67,85,56]\n",
    "list2 = sorted(list1)"
   ]
  },
  {
   "cell_type": "code",
   "execution_count": 76,
   "id": "94e6035f-b9ad-4138-b501-f3d048379a21",
   "metadata": {},
   "outputs": [
    {
     "data": {
      "text/plain": [
       "[11, 23, 45, 56, 67, 85]"
      ]
     },
     "execution_count": 76,
     "metadata": {},
     "output_type": "execute_result"
    }
   ],
   "source": [
    "list2"
   ]
  },
  {
   "cell_type": "code",
   "execution_count": 78,
   "id": "6600da06-1a53-4893-bd46-72a5a7b602d0",
   "metadata": {},
   "outputs": [
    {
     "data": {
      "text/plain": [
       "11"
      ]
     },
     "execution_count": 78,
     "metadata": {},
     "output_type": "execute_result"
    }
   ],
   "source": [
    "list1 = [23,45,11,67,85,56]\n",
    "min(list1)"
   ]
  },
  {
   "cell_type": "code",
   "execution_count": 79,
   "id": "03c25428-3163-42ca-8e64-eb189c9fe4b4",
   "metadata": {},
   "outputs": [
    {
     "data": {
      "text/plain": [
       "85"
      ]
     },
     "execution_count": 79,
     "metadata": {},
     "output_type": "execute_result"
    }
   ],
   "source": [
    "list1 = [23,45,11,67,85,56]\n",
    "max(list1)"
   ]
  },
  {
   "cell_type": "code",
   "execution_count": 81,
   "id": "8406e851-4a60-4d06-8f8e-bade92bea566",
   "metadata": {},
   "outputs": [
    {
     "data": {
      "text/plain": [
       "287"
      ]
     },
     "execution_count": 81,
     "metadata": {},
     "output_type": "execute_result"
    }
   ],
   "source": [
    "list1 = [23,45,11,67,85,56]\n",
    "sum(list1)"
   ]
  },
  {
   "cell_type": "code",
   "execution_count": 92,
   "id": "b065bf8c-bb57-47e3-8310-c1561a2f0570",
   "metadata": {},
   "outputs": [
    {
     "data": {
      "text/plain": [
       "[23, 45, 11, 67, 85, 56, 60]"
      ]
     },
     "execution_count": 92,
     "metadata": {},
     "output_type": "execute_result"
    }
   ],
   "source": [
    "list1 = [23,45,11,67,85,56]\n",
    "list2 = list1[:]\n",
    "list1.append(60)\n",
    "list1"
   ]
  },
  {
   "cell_type": "code",
   "execution_count": 94,
   "id": "0c391b8b-aae8-49d6-80ad-dece00177925",
   "metadata": {},
   "outputs": [
    {
     "data": {
      "text/plain": [
       "[23, 45, 11, 67, 85, 56]"
      ]
     },
     "execution_count": 94,
     "metadata": {},
     "output_type": "execute_result"
    }
   ],
   "source": [
    "list3 = [23,45,11,67,85,56]\n",
    "list4 = list(list3)\n",
    "list3.append(60)\n",
    "list4"
   ]
  },
  {
   "cell_type": "code",
   "execution_count": 87,
   "id": "91031ecc-4922-49c2-b638-81f36f7ce135",
   "metadata": {},
   "outputs": [
    {
     "data": {
      "text/plain": [
       "[23, 45, 11, 67, 85, 56]"
      ]
     },
     "execution_count": 87,
     "metadata": {},
     "output_type": "execute_result"
    }
   ],
   "source": [
    "import copy\n",
    "list5 = [23,45,11,67,85,56]\n",
    "list6 = copy.copy(list5)\n",
    "list6"
   ]
  },
  {
   "cell_type": "code",
   "execution_count": null,
   "id": "167c09c9-a5ad-4fe6-85a8-2398cc22621d",
   "metadata": {},
   "outputs": [],
   "source": []
  }
 ],
 "metadata": {
  "kernelspec": {
   "display_name": "Python 3 (ipykernel)",
   "language": "python",
   "name": "python3"
  },
  "language_info": {
   "codemirror_mode": {
    "name": "ipython",
    "version": 3
   },
   "file_extension": ".py",
   "mimetype": "text/x-python",
   "name": "python",
   "nbconvert_exporter": "python",
   "pygments_lexer": "ipython3",
   "version": "3.13.5"
  }
 },
 "nbformat": 4,
 "nbformat_minor": 5
}
