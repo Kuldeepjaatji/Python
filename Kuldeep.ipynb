{
 "cells": [
  {
   "cell_type": "code",
   "execution_count": 2,
   "id": "3b9d23e5-0c7b-43cc-ad63-07ef2a4e8561",
   "metadata": {},
   "outputs": [
    {
     "name": "stdout",
     "output_type": "stream",
     "text": [
      "1\n",
      "2\n",
      "3\n",
      "4\n",
      "5\n"
     ]
    }
   ],
   "source": [
    "num =1\n",
    "while num <= 5:\n",
    "    print(num)\n",
    "    num+=1"
   ]
  },
  {
   "cell_type": "code",
   "execution_count": 2,
   "id": "f5658ac6-b5d3-4d3a-b3c0-66270e23abe8",
   "metadata": {},
   "outputs": [
    {
     "name": "stdin",
     "output_type": "stream",
     "text": [
      "Enter Your number:  90\n"
     ]
    },
    {
     "name": "stdout",
     "output_type": "stream",
     "text": [
      "1 2 3 5 6 9 10 15 18 30 45 90 "
     ]
    }
   ],
   "source": [
    "num = int(input(\"Enter Your number: \"))\n",
    "print(1,end=\" \")\n",
    "factor = 2\n",
    "while factor <= num/2 :\n",
    "    if num % factor == 0 :\n",
    "        print(factor,end=\" \")\n",
    "    factor += 1\n",
    "    \n",
    "print(num,end=\" \")"
   ]
  },
  {
   "cell_type": "code",
   "execution_count": 3,
   "id": "b43ec5d8-de15-4fc5-85b3-ab002822fb16",
   "metadata": {},
   "outputs": [
    {
     "name": "stdin",
     "output_type": "stream",
     "text": [
      "Enter your number:  10\n"
     ]
    },
    {
     "name": "stdout",
     "output_type": "stream",
     "text": [
      "10 is not a prime number\n"
     ]
    }
   ],
   "source": [
    "num = int(input('Enter your number: '))\n",
    "fleg = 0\n",
    "if num >1:\n",
    "    for i in range(2,num):\n",
    "        if(num % i == 0):\n",
    "            fleg = 1\n",
    "            break\n",
    "    if fleg == 1:\n",
    "        print(num,\"is not a prime number\")\n",
    "    else :\n",
    "        print(num ,\" is a prime number\")\n",
    "else :\n",
    "    print('Enter number is <= 1,execute again!')"
   ]
  },
  {
   "cell_type": "code",
   "execution_count": 5,
   "id": "c191bc74-fcc9-4c6b-aaf9-77331f8049ab",
   "metadata": {},
   "outputs": [
    {
     "name": "stdout",
     "output_type": "stream",
     "text": [
      "num has value :  1\n",
      "num has value :  2\n",
      "num has value :  4\n",
      "num has value :  5\n",
      "num has value :  6\n",
      "end of loop\n"
     ]
    }
   ],
   "source": [
    "num = 0\n",
    "for num in range(0,6):\n",
    "    num += 1\n",
    "    if num ==3:\n",
    "        continue\n",
    "    print('num has value :  ' + str(num))\n",
    "print('end of loop')"
   ]
  },
  {
   "cell_type": "code",
   "execution_count": null,
   "id": "57f501d5-692c-441f-a9a3-0545ae62eea2",
   "metadata": {},
   "outputs": [],
   "source": [
    "num = 0\n",
    "for i in range()"
   ]
  }
 ],
 "metadata": {
  "kernelspec": {
   "display_name": "Python 3 (ipykernel)",
   "language": "python",
   "name": "python3"
  },
  "language_info": {
   "codemirror_mode": {
    "name": "ipython",
    "version": 3
   },
   "file_extension": ".py",
   "mimetype": "text/x-python",
   "name": "python",
   "nbconvert_exporter": "python",
   "pygments_lexer": "ipython3",
   "version": "3.13.5"
  }
 },
 "nbformat": 4,
 "nbformat_minor": 5
}
