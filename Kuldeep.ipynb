{
 "cells": [
  {
   "cell_type": "code",
   "execution_count": 2,
   "id": "3b9d23e5-0c7b-43cc-ad63-07ef2a4e8561",
   "metadata": {},
   "outputs": [
    {
     "name": "stdout",
     "output_type": "stream",
     "text": [
      "1\n",
      "2\n",
      "3\n",
      "4\n",
      "5\n"
     ]
    }
   ],
   "source": [
    "num =1\n",
    "while num <= 5:\n",
    "    print(num)\n",
    "    num+=1"
   ]
  },
  {
   "cell_type": "code",
   "execution_count": 2,
   "id": "f5658ac6-b5d3-4d3a-b3c0-66270e23abe8",
   "metadata": {},
   "outputs": [
    {
     "name": "stdin",
     "output_type": "stream",
     "text": [
      "Enter Your number:  90\n"
     ]
    },
    {
     "name": "stdout",
     "output_type": "stream",
     "text": [
      "1 2 3 5 6 9 10 15 18 30 45 90 "
     ]
    }
   ],
   "source": [
    "num = int(input(\"Enter Your number: \"))\n",
    "print(1,end=\" \")\n",
    "factor = 2\n",
    "while factor <= num/2 :\n",
    "    if num % factor == 0 :\n",
    "        print(factor,end=\" \")\n",
    "    factor += 1\n",
    "    \n",
    "print(num,end=\" \")"
   ]
  }
 ],
 "metadata": {
  "kernelspec": {
   "display_name": "Python 3 (ipykernel)",
   "language": "python",
   "name": "python3"
  },
  "language_info": {
   "codemirror_mode": {
    "name": "ipython",
    "version": 3
   },
   "file_extension": ".py",
   "mimetype": "text/x-python",
   "name": "python",
   "nbconvert_exporter": "python",
   "pygments_lexer": "ipython3",
   "version": "3.13.5"
  }
 },
 "nbformat": 4,
 "nbformat_minor": 5
}
