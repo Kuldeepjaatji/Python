{
 "cells": [
  {
   "cell_type": "code",
   "execution_count": 3,
   "id": "ab59612e-5fff-4fe5-8dba-9895a529d9a9",
   "metadata": {},
   "outputs": [
    {
     "name": "stdin",
     "output_type": "stream",
     "text": [
      "Enter first number : 12\n",
      "Enter second number :  13\n"
     ]
    },
    {
     "name": "stdout",
     "output_type": "stream",
     "text": [
      "Positive difference of 12 and 13 is : 1\n"
     ]
    }
   ],
   "source": [
    "num1 = int(input(\"Enter first number :\"))\n",
    "num2 = int(input(\"Enter second number : \"))\n",
    "diff = 0\n",
    "if num1 > num2 : \n",
    "    diff = num1-num2\n",
    "else:\n",
    "    diff = num2-num1\n",
    "print(\"Positive difference of\",num1,\"and\",num2,\"is :\",diff)\n",
    "    "
   ]
  },
  {
   "cell_type": "code",
   "execution_count": 8,
   "id": "19a57922-e289-4a33-a34f-b919c4e52ea2",
   "metadata": {},
   "outputs": [
    {
     "name": "stdin",
     "output_type": "stream",
     "text": [
      "Enter first number : 12\n",
      "Enter second number :  12\n",
      "enter a operator for your calculation : + ,-,*,/ +\n"
     ]
    },
    {
     "name": "stdout",
     "output_type": "stream",
     "text": [
      "Result:  24\n"
     ]
    }
   ],
   "source": [
    "num1 = int(input(\"Enter first number :\"))\n",
    "num2 = int(input(\"Enter second number : \"))\n",
    "opr = input(\"enter a operator for your calculation : + ,-,*,/\")\n",
    "result = 0\n",
    "if opr == \"+\" : \n",
    "    result = num1+num2\n",
    "elif opr == \"-\":\n",
    "    if num1 > num2:\n",
    "        result = num1 - num2\n",
    "    else:\n",
    "        result = num2 - num1\n",
    "elif opr == \"*\":\n",
    "    result = num1 * num2 \n",
    "elif opr == \"/\":\n",
    "    if num2 == 0:\n",
    "        print(\"this is not posible condition division with zero\")\n",
    "    else:\n",
    "        result=num1/num2\n",
    "else:\n",
    "    print(\"please enter basic four symbol,wrong input prompt,try again\")\n",
    "print(\"Result: \",result)\n",
    "    "
   ]
  }
 ],
 "metadata": {
  "kernelspec": {
   "display_name": "Python 3 (ipykernel)",
   "language": "python",
   "name": "python3"
  },
  "language_info": {
   "codemirror_mode": {
    "name": "ipython",
    "version": 3
   },
   "file_extension": ".py",
   "mimetype": "text/x-python",
   "name": "python",
   "nbconvert_exporter": "python",
   "pygments_lexer": "ipython3",
   "version": "3.13.5"
  }
 },
 "nbformat": 4,
 "nbformat_minor": 5
}
