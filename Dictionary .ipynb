{
 "cells": [
  {
   "cell_type": "markdown",
   "id": "2e2ae008-00bc-4a25-a838-580d6aefb046",
   "metadata": {},
   "source": [
    "Creating a Dictionary"
   ]
  },
  {
   "cell_type": "code",
   "execution_count": 1,
   "id": "c984810b-7068-497e-bd33-29c34cb3fe58",
   "metadata": {},
   "outputs": [
    {
     "data": {
      "text/plain": [
       "{}"
      ]
     },
     "execution_count": 1,
     "metadata": {},
     "output_type": "execute_result"
    }
   ],
   "source": [
    "dict1 = {}\n",
    "dict1"
   ]
  },
  {
   "cell_type": "code",
   "execution_count": 2,
   "id": "735f6cf6-a658-45c3-b51c-43e1863f7329",
   "metadata": {},
   "outputs": [
    {
     "data": {
      "text/plain": [
       "{}"
      ]
     },
     "execution_count": 2,
     "metadata": {},
     "output_type": "execute_result"
    }
   ],
   "source": [
    "dict2 = dict()\n",
    "dict2"
   ]
  },
  {
   "cell_type": "markdown",
   "id": "b7ae1ea9-0c5c-47ab-bc9e-84b7b31d7bfd",
   "metadata": {},
   "source": [
    "#dict3 is the dictionary that maps names of the students to respective marks in percentage"
   ]
  },
  {
   "cell_type": "code",
   "execution_count": 6,
   "id": "1099f5b6-0acd-43e4-89f7-8195929e9472",
   "metadata": {},
   "outputs": [
    {
     "data": {
      "text/plain": [
       "{'Mohan': 95, 'Ram': 89, 'Suhel': 92, 'Sangeeta': 85}"
      ]
     },
     "execution_count": 6,
     "metadata": {},
     "output_type": "execute_result"
    }
   ],
   "source": [
    "dict3 ={'Mohan': 95, 'Ram': 89, 'Suhel': 92,'Sangeeta': 85}\n",
    "dict3"
   ]
  },
  {
   "cell_type": "code",
   "execution_count": 8,
   "id": "dff9b28e-c037-4d88-8ea8-3678574622b6",
   "metadata": {},
   "outputs": [
    {
     "data": {
      "text/plain": [
       "89"
      ]
     },
     "execution_count": 8,
     "metadata": {},
     "output_type": "execute_result"
    }
   ],
   "source": [
    "dict3 ={'Mohan': 95, 'Ram': 89, 'Suhel': 92,'Sangeeta': 85}\n",
    "dict3['Ram']"
   ]
  },
  {
   "cell_type": "code",
   "execution_count": 10,
   "id": "d5ce98e3-5d34-405f-9179-8eeb9dec65ee",
   "metadata": {},
   "outputs": [
    {
     "data": {
      "text/plain": [
       "{'Mohan': 95, 'Ram': 99, 'Suhel': 92, 'Sangeeta': 85}"
      ]
     },
     "execution_count": 10,
     "metadata": {},
     "output_type": "execute_result"
    }
   ],
   "source": [
    "dict3 ={'Mohan': 95, 'Ram': 89, 'Suhel': 92,'Sangeeta': 85}\n",
    "dict3['Ram'] = 99\n",
    "dict3"
   ]
  },
  {
   "cell_type": "code",
   "execution_count": 11,
   "id": "2cca45f2-d0e3-4973-a0b4-6d3449dff0a8",
   "metadata": {},
   "outputs": [
    {
     "data": {
      "text/plain": [
       "True"
      ]
     },
     "execution_count": 11,
     "metadata": {},
     "output_type": "execute_result"
    }
   ],
   "source": [
    "dict3 ={'Mohan': 95, 'Ram': 89, 'Suhel': 92,'Sangeeta': 85}\n",
    "'Ram' in dict3"
   ]
  },
  {
   "cell_type": "code",
   "execution_count": 12,
   "id": "6952cb7d-f9c1-4850-9f11-ebd4646ef7c8",
   "metadata": {},
   "outputs": [],
   "source": [
    "# method 1"
   ]
  },
  {
   "cell_type": "code",
   "execution_count": 14,
   "id": "4d379b1f-b56b-4b9c-a462-d95db8970ef7",
   "metadata": {},
   "outputs": [
    {
     "name": "stdout",
     "output_type": "stream",
     "text": [
      "Mohan : 95\n",
      "Ram : 89\n",
      "Suhel : 92\n",
      "Sangeeta : 85\n"
     ]
    }
   ],
   "source": [
    "dict4 ={'Mohan': 95, 'Ram': 89, 'Suhel': 92,'Sangeeta': 85}\n",
    "for key in dict4:\n",
    "    print(key,':',dict4[key])"
   ]
  },
  {
   "cell_type": "code",
   "execution_count": 17,
   "id": "b46a4cbc-33d2-4db5-97ef-23c6a404c2b9",
   "metadata": {},
   "outputs": [
    {
     "name": "stdout",
     "output_type": "stream",
     "text": [
      "Mohan : 95\n",
      "Ram : 89\n",
      "Suhel : 92\n",
      "Sangeeta : 85\n"
     ]
    },
    {
     "data": {
      "text/plain": [
       "4"
      ]
     },
     "execution_count": 17,
     "metadata": {},
     "output_type": "execute_result"
    }
   ],
   "source": [
    "dict4 ={'Mohan': 95, 'Ram': 89, 'Suhel': 92,'Sangeeta': 85}\n",
    "for key , value in dict4.items():\n",
    "    print(key,':',value)\n",
    "len(dict4)"
   ]
  },
  {
   "cell_type": "code",
   "execution_count": 24,
   "id": "8ef137c1-1573-4ce0-b1c7-5a4de866c42a",
   "metadata": {},
   "outputs": [
    {
     "data": {
      "text/plain": [
       "{'kuldeep': 95, 'Ji': 96, 'Jaat': 97}"
      ]
     },
     "execution_count": 24,
     "metadata": {},
     "output_type": "execute_result"
    }
   ],
   "source": [
    "list1 = [('kuldeep',95),('Ji',96),('Jaat',97)]\n",
    "dict1 = dict(list1)\n",
    "dict1"
   ]
  },
  {
   "cell_type": "code",
   "execution_count": 25,
   "id": "39e060b4-c687-4c4c-b7e8-013bc21f7515",
   "metadata": {},
   "outputs": [
    {
     "data": {
      "text/plain": [
       "dict_keys(['Mohan', 'Ram', 'Suhel', 'Sangeeta'])"
      ]
     },
     "execution_count": 25,
     "metadata": {},
     "output_type": "execute_result"
    }
   ],
   "source": [
    "dict4 ={'Mohan': 95, 'Ram': 89, 'Suhel': 92,'Sangeeta': 85}\n",
    "dict4.keys()"
   ]
  },
  {
   "cell_type": "code",
   "execution_count": 27,
   "id": "1ad4549e-630a-4845-80a2-35f7ac786607",
   "metadata": {},
   "outputs": [
    {
     "data": {
      "text/plain": [
       "dict_values([95, 89, 92, 85])"
      ]
     },
     "execution_count": 27,
     "metadata": {},
     "output_type": "execute_result"
    }
   ],
   "source": [
    "dict4 ={'Mohan': 95, 'Ram': 89, 'Suhel': 92,'Sangeeta': 85}\n",
    "dict4.values()"
   ]
  },
  {
   "cell_type": "code",
   "execution_count": 28,
   "id": "244fe10c-03f3-4616-be2b-5e8ebe683743",
   "metadata": {},
   "outputs": [
    {
     "data": {
      "text/plain": [
       "dict_items([('Mohan', 95), ('Ram', 89), ('Suhel', 92), ('Sangeeta', 85)])"
      ]
     },
     "execution_count": 28,
     "metadata": {},
     "output_type": "execute_result"
    }
   ],
   "source": [
    "dict4 ={'Mohan': 95, 'Ram': 89, 'Suhel': 92,'Sangeeta': 85}\n",
    "dict4.items()"
   ]
  },
  {
   "cell_type": "code",
   "execution_count": 32,
   "id": "96c0ad61-ec67-4b84-98dd-bff46140ecfd",
   "metadata": {},
   "outputs": [
    {
     "data": {
      "text/plain": [
       "95"
      ]
     },
     "execution_count": 32,
     "metadata": {},
     "output_type": "execute_result"
    }
   ],
   "source": [
    "dict4 ={'Mohan': 95, 'Ram': 89, 'Suhel': 92,'Sangeeta': 85}\n",
    "dict4.get('Mohan')"
   ]
  },
  {
   "cell_type": "code",
   "execution_count": 36,
   "id": "f48b32eb-6e76-41de-9b13-c6480cfb4d05",
   "metadata": {},
   "outputs": [
    {
     "name": "stdout",
     "output_type": "stream",
     "text": [
      "{'Mohan': 95, 'Ram': 89, 'Suhel': 92, 'Sangeeta': 85, 'kuldeep': 99.5, 'hemant': 99}\n",
      "{'kuldeep': 99.5, 'hemant': 99, 'Mohan': 95, 'Ram': 89, 'Suhel': 92, 'Sangeeta': 85}\n"
     ]
    }
   ],
   "source": [
    "dict4 ={'Mohan': 95, 'Ram': 89, 'Suhel': 92,'Sangeeta': 85}\n",
    "dict5 ={'kuldeep':99.5,'hemant':99}\n",
    "dict4.update(dict5)\n",
    "dict5.update(dict4)\n",
    "print(dict4)\n",
    "print(dict5)"
   ]
  },
  {
   "cell_type": "code",
   "execution_count": 42,
   "id": "86595c8c-b24f-4f8f-9215-a462a0465344",
   "metadata": {},
   "outputs": [
    {
     "data": {
      "text/plain": [
       "{'Ram': 89, 'Suhel': 92, 'Sangeeta': 85}"
      ]
     },
     "execution_count": 42,
     "metadata": {},
     "output_type": "execute_result"
    }
   ],
   "source": [
    "dict4 ={'Mohan': 95, 'Ram': 89, 'Suhel': 92,'Sangeeta': 85}\n",
    "del dict4['Mohan']\n",
    "dict4\n",
    "\n"
   ]
  },
  {
   "cell_type": "code",
   "execution_count": 43,
   "id": "034fbf5b-4827-4c26-9939-b03ebb6d085c",
   "metadata": {},
   "outputs": [
    {
     "data": {
      "text/plain": [
       "{}"
      ]
     },
     "execution_count": 43,
     "metadata": {},
     "output_type": "execute_result"
    }
   ],
   "source": [
    "dict4 ={'Mohan': 95, 'Ram': 89, 'Suhel': 92,'Sangeeta': 85}\n",
    "dict4.clear()\n",
    "dict4\n"
   ]
  },
  {
   "cell_type": "code",
   "execution_count": null,
   "id": "ec279439-5501-4e9f-90fa-3f57df9b3a1a",
   "metadata": {},
   "outputs": [],
   "source": []
  },
  {
   "cell_type": "code",
   "execution_count": null,
   "id": "525165f4-6829-4c30-822e-20b933888609",
   "metadata": {},
   "outputs": [],
   "source": []
  },
  {
   "cell_type": "code",
   "execution_count": null,
   "id": "d8c7d44a-0a40-4483-b534-7f1d91cff88e",
   "metadata": {},
   "outputs": [],
   "source": []
  },
  {
   "cell_type": "code",
   "execution_count": null,
   "id": "bfce3184-3c03-4b86-905d-321954b0a992",
   "metadata": {},
   "outputs": [],
   "source": []
  },
  {
   "cell_type": "markdown",
   "id": "c2174847-a2a9-4b04-bdb6-d74c4b079a6d",
   "metadata": {},
   "source": [
    "Program (1)==>> Write a program to enter names of employees and their salaries as input\n",
    "and store them in a dictionary."
   ]
  },
  {
   "cell_type": "code",
   "execution_count": 44,
   "id": "5d03ff7f-01b5-4c00-80a9-42b9033106a1",
   "metadata": {},
   "outputs": [
    {
     "name": "stdin",
     "output_type": "stream",
     "text": [
      "Enter the number of employees whose data to bestored:  1\n",
      "Enter the name of the Employee:  kuldeep\n",
      "Enter the salary:  25000\n"
     ]
    },
    {
     "name": "stdout",
     "output_type": "stream",
     "text": [
      "\n",
      "\n",
      "EMPLOYEE_NAME\tSALARY\n",
      "kuldeep \t\t 25000\n"
     ]
    }
   ],
   "source": [
    "num = int(input(\"Enter the number of employees whose data to bestored: \"))\n",
    "count = 1\n",
    "employee = dict() #create an empty dictionary\n",
    "while count <= num:\n",
    "    name = input(\"Enter the name of the Employee: \")\n",
    "    salary = int(input(\"Enter the salary: \"))\n",
    "    employee[name] = salary\n",
    "    count += 1\n",
    "print(\"\\n\\nEMPLOYEE_NAME\\tSALARY\")\n",
    "for k in employee:\n",
    "    print(k,'\\t\\t',employee[k])"
   ]
  },
  {
   "cell_type": "code",
   "execution_count": null,
   "id": "df0f85f8-56fc-4ff6-b31e-1d791948da61",
   "metadata": {},
   "outputs": [],
   "source": []
  },
  {
   "cell_type": "code",
   "execution_count": null,
   "id": "e6a166f7-c15c-483c-8df3-fbaf7e689cc5",
   "metadata": {},
   "outputs": [],
   "source": []
  },
  {
   "cell_type": "code",
   "execution_count": null,
   "id": "429a188e-1b5b-492c-bf82-c611890ba9e2",
   "metadata": {},
   "outputs": [],
   "source": []
  },
  {
   "cell_type": "code",
   "execution_count": null,
   "id": "8e48af26-192d-47c8-8427-ad45c7b70927",
   "metadata": {},
   "outputs": [],
   "source": []
  },
  {
   "cell_type": "markdown",
   "id": "c0ac185e-8928-4490-9193-d463a778c2d9",
   "metadata": {},
   "source": [
    "Program (2) ==>> Write a program to count the number of times a character appears in a given string."
   ]
  },
  {
   "cell_type": "code",
   "execution_count": 46,
   "id": "4bb0b429-f402-4c05-b54b-aad261fe5655",
   "metadata": {},
   "outputs": [
    {
     "name": "stdin",
     "output_type": "stream",
     "text": [
      "Enter a string:  Kuldeep Jaat\n"
     ]
    },
    {
     "name": "stdout",
     "output_type": "stream",
     "text": [
      "t : 1\n"
     ]
    }
   ],
   "source": [
    "st = input(\"Enter a string: \")\n",
    "dic = {} #creates an empty dictionary\n",
    "for ch in st:\n",
    "    if ch in dic: #if next character is already in the dictionary\n",
    "        dic[ch] += 1\n",
    "else:\n",
    "    dic[ch] = 1 #if ch appears for the first time\n",
    "for key in dic:\n",
    "    print(key,':',dic[key]) "
   ]
  }
 ],
 "metadata": {
  "kernelspec": {
   "display_name": "Python 3 (ipykernel)",
   "language": "python",
   "name": "python3"
  },
  "language_info": {
   "codemirror_mode": {
    "name": "ipython",
    "version": 3
   },
   "file_extension": ".py",
   "mimetype": "text/x-python",
   "name": "python",
   "nbconvert_exporter": "python",
   "pygments_lexer": "ipython3",
   "version": "3.13.5"
  }
 },
 "nbformat": 4,
 "nbformat_minor": 5
}
