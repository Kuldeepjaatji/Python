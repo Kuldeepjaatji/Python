{
 "cells": [
  {
   "cell_type": "code",
   "execution_count": 3,
   "id": "27e9383a-df46-491a-9624-3f2d3b1431de",
   "metadata": {},
   "outputs": [],
   "source": [
    "myobject=open(\"myfile.txt\",'w')\n",
    "lines = [\"Hello everyone\\n\", \"Writing multiline strings\\n\", \"This is the third line\"]\n",
    "myobject.writelines(lines)"
   ]
  },
  {
   "cell_type": "code",
   "execution_count": 7,
   "id": "8f339317-a445-4f83-9baf-d2b043928e59",
   "metadata": {},
   "outputs": [
    {
     "data": {
      "text/plain": [
       "'Hello everyone'"
      ]
     },
     "execution_count": 7,
     "metadata": {},
     "output_type": "execute_result"
    }
   ],
   "source": [
    "myobject=open(\"myfile.txt\",'r')\n",
    "myobject.read(14)"
   ]
  },
  {
   "cell_type": "code",
   "execution_count": 9,
   "id": "63c5322b-2249-48d0-8c68-62555a279db4",
   "metadata": {},
   "outputs": [
    {
     "name": "stdout",
     "output_type": "stream",
     "text": [
      "Hello everyone\n",
      "Writing multiline strings\n",
      "This is the third line\n"
     ]
    }
   ],
   "source": [
    "myobject=open(\"myfile.txt\",'r')\n",
    "print(myobject.read())"
   ]
  },
  {
   "cell_type": "code",
   "execution_count": 10,
   "id": "e0e83ee7-861a-473b-947d-2bd9c81b1e09",
   "metadata": {},
   "outputs": [
    {
     "name": "stdout",
     "output_type": "stream",
     "text": [
      "['Hello everyone\\n', 'Writing multiline strings\\n', 'This is the third line']\n"
     ]
    }
   ],
   "source": [
    "myobject=open(\"myfile.txt\",'r')\n",
    "print(myobject.readlines())"
   ]
  },
  {
   "cell_type": "code",
   "execution_count": 12,
   "id": "8dc31d2b-d9cc-427d-81ee-468a34113ec7",
   "metadata": {},
   "outputs": [
    {
     "name": "stdout",
     "output_type": "stream",
     "text": [
      "['Hello', 'everyone']\n",
      "['Writing', 'multiline', 'strings']\n",
      "['This', 'is', 'the', 'third', 'line']\n"
     ]
    }
   ],
   "source": [
    "myobject=open(\"myfile.txt\",'r')\n",
    "d = myobject.readlines()\n",
    "for lines in d:\n",
    "    worlds = lines.split()\n",
    "    print(worlds)"
   ]
  },
  {
   "cell_type": "code",
   "execution_count": 13,
   "id": "328699b7-0fd9-4814-bce7-bacd13076590",
   "metadata": {},
   "outputs": [
    {
     "name": "stdout",
     "output_type": "stream",
     "text": [
      "['Hello everyone']\n",
      "['Writing multiline strings']\n",
      "['This is the third line']\n"
     ]
    }
   ],
   "source": [
    "myobject=open(\"myfile.txt\",'r')\n",
    "d = myobject.readlines()\n",
    "for lines in d:\n",
    "    worlds = lines.splitlines()\n",
    "    print(worlds)"
   ]
  },
  {
   "cell_type": "code",
   "execution_count": 33,
   "id": "5aa0c064-1f07-49c9-ab83-169da280f476",
   "metadata": {},
   "outputs": [
    {
     "name": "stdin",
     "output_type": "stream",
     "text": [
      "Enter the contents to be written in the file :   ekopwfkrp3o4qiriaj4309w\n"
     ]
    },
    {
     "name": "stdout",
     "output_type": "stream",
     "text": [
      "Now reading the contents of the file : \n",
      "ekopwfkrp3o4qiriaj4309w\n"
     ]
    }
   ],
   "source": [
    "myfiles=open(\"myfile.txt\",'w+')\n",
    "sentence = input('Enter the contents to be written in the file :  ')\n",
    "myfiles.write(sentence)\n",
    "myfiles.close()\n",
    "\n",
    "print('Now reading the contents of the file : ')\n",
    "myfiles=open(\"myfile.txt\",'r')\n",
    "for str1 in myfiles:\n",
    "    print(str1)\n",
    "myfiles.close()"
   ]
  },
  {
   "cell_type": "code",
   "execution_count": null,
   "id": "10c56166-c9be-4c2c-9262-3a0855fc03ad",
   "metadata": {},
   "outputs": [],
   "source": []
  }
 ],
 "metadata": {
  "kernelspec": {
   "display_name": "Python 3 (ipykernel)",
   "language": "python",
   "name": "python3"
  },
  "language_info": {
   "codemirror_mode": {
    "name": "ipython",
    "version": 3
   },
   "file_extension": ".py",
   "mimetype": "text/x-python",
   "name": "python",
   "nbconvert_exporter": "python",
   "pygments_lexer": "ipython3",
   "version": "3.13.5"
  }
 },
 "nbformat": 4,
 "nbformat_minor": 5
}
