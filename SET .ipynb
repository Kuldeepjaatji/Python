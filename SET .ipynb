{
 "cells": [
  {
   "cell_type": "markdown",
   "id": "221911c9-0f32-4059-9d0d-48e9a3ec3534",
   "metadata": {},
   "source": [
    "In Python, a `set` is an **unordered collection of unique elements**. Here's a quick overview with examples:\n",
    "\n",
    "---\n",
    "\n",
    "### ✅ Basic Set Creation\n",
    "\n",
    "```python\n",
    "# Using curly braces\n",
    "my_set = {1, 2, 3, 4}\n",
    "print(my_set)  # Output: {1, 2, 3, 4}\n",
    "\n",
    "# Using set() constructor\n",
    "another_set = set([1, 2, 2, 3])\n",
    "print(another_set)  # Output: {1, 2, 3}\n",
    "```\n",
    "\n",
    "> 🔹 Duplicates are automatically removed.\n",
    "\n",
    "---\n",
    "\n",
    "### ✅ Set Operations\n",
    "\n",
    "```python\n",
    "a = {1, 2, 3}\n",
    "b = {3, 4, 5}\n",
    "\n",
    "print(a.union(b))        # {1, 2, 3, 4, 5}\n",
    "print(a.intersection(b)) # {3}\n",
    "print(a.difference(b))   # {1, 2}\n",
    "print(a.symmetric_difference(b))  # {1, 2, 4, 5}\n",
    "```\n",
    "\n",
    "---\n",
    "\n",
    "### ✅ Common Set Methods\n",
    "\n",
    "```python\n",
    "s = set()\n",
    "\n",
    "s.add(10)\n",
    "s.update([20, 30, 40])\n",
    "s.remove(20)     # Throws error if element not found\n",
    "s.discard(50)    # Does NOT throw error if element not found\n",
    "s.clear()        # Empties the set\n",
    "```\n",
    "\n",
    "---\n",
    "\n",
    "### ✅ Loop Through a Set\n",
    "\n",
    "```python\n",
    "colors = {\"red\", \"green\", \"blue\"}\n",
    "\n",
    "for color in colors:\n",
    "    print(color)\n",
    "```\n",
    "\n",
    "---\n",
    "\n",
    "### ❗Important Notes:\n",
    "\n",
    "* **No indexing**: Sets are unordered — you can't access elements with an index.\n",
    "* **Only immutable elements allowed**: You can’t add lists/dictionaries as set elements, but you can add tuples.\n",
    "\n",
    "---\n",
    "\n",
    "Let me know if you want examples of sets being used in real programs (e.g. duplicate removal, mathematical problems, etc.).\n"
   ]
  },
  {
   "cell_type": "code",
   "execution_count": 1,
   "id": "a36af943-3a93-425a-a15c-9798baa21901",
   "metadata": {},
   "outputs": [
    {
     "name": "stdout",
     "output_type": "stream",
     "text": [
      "{1, 2, 3, 4}\n"
     ]
    }
   ],
   "source": [
    "my_set = {1, 2, 3, 4}\n",
    "print(my_set)"
   ]
  },
  {
   "cell_type": "code",
   "execution_count": 2,
   "id": "fe897bc7-4fbc-4c7b-aae0-e48f82bc4803",
   "metadata": {},
   "outputs": [
    {
     "name": "stdout",
     "output_type": "stream",
     "text": [
      "{1, 2, 3}\n"
     ]
    }
   ],
   "source": [
    "another_set = set([1, 2, 2, 3])\n",
    "print(another_set)"
   ]
  },
  {
   "cell_type": "code",
   "execution_count": 5,
   "id": "7b0a3102-56b4-42d3-beab-a1b108bd0cbd",
   "metadata": {},
   "outputs": [
    {
     "name": "stdout",
     "output_type": "stream",
     "text": [
      "{1, 2, 3, 4, 5}\n",
      "{1, 2, 3, 4, 5}\n",
      "{3}\n",
      "{3}\n",
      "{1, 2}\n",
      "{4, 5}\n",
      "{1, 2, 4, 5}\n",
      "{1, 2, 4, 5}\n"
     ]
    }
   ],
   "source": [
    "a = {1, 2, 3}\n",
    "b = {3, 4, 5}\n",
    "\n",
    "print(a.union(b))\n",
    "print(b.union(a))\n",
    "print(a.intersection(b))\n",
    "print(b.intersection(a))\n",
    "print(a.difference(b))\n",
    "print(b.difference(a))\n",
    "print(b.symmetric_difference(a))\n",
    "print(a.symmetric_difference(b))"
   ]
  }
 ],
 "metadata": {
  "kernelspec": {
   "display_name": "Python 3 (ipykernel)",
   "language": "python",
   "name": "python3"
  },
  "language_info": {
   "codemirror_mode": {
    "name": "ipython",
    "version": 3
   },
   "file_extension": ".py",
   "mimetype": "text/x-python",
   "name": "python",
   "nbconvert_exporter": "python",
   "pygments_lexer": "ipython3",
   "version": "3.13.5"
  }
 },
 "nbformat": 4,
 "nbformat_minor": 5
}
